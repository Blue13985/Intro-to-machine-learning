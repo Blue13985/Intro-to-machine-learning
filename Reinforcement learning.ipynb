{
  "nbformat": 4,
  "nbformat_minor": 0,
  "metadata": {
    "colab": {
      "name": "Neil_Doshi_50420092.ipynb",
      "provenance": [],
      "collapsed_sections": []
    },
    "kernelspec": {
      "name": "python3",
      "display_name": "Python 3"
    },
    "language_info": {
      "name": "python"
    },
    "accelerator": "GPU"
  },
  "cells": [
    {
      "cell_type": "markdown",
      "source": [
        "\n",
        "\n",
        "\"I certify that the code and data in this assignment were generated independently,\n",
        "using only the tools and resources defined in the course and that I did not receive\n",
        "any external help, coaching or contributions during the production of this work.\"\n",
        "\n"
      ],
      "metadata": {
        "id": "6bKontoSrmMe"
      }
    },
    {
      "cell_type": "code",
      "source": [
        "!pip install gym\n",
        "!pip install google.colab"
      ],
      "metadata": {
        "id": "_wNbKPvJbXy8"
      },
      "execution_count": null,
      "outputs": []
    },
    {
      "cell_type": "code",
      "source": [
        "!git clone https://github.com/Neil-Doshi/intro-to-machine-learning.git images\n"
      ],
      "metadata": {
        "id": "S0ABTuFwk1xy"
      },
      "execution_count": null,
      "outputs": []
    },
    {
      "cell_type": "code",
      "execution_count": 1,
      "metadata": {
        "id": "TXX0a-yEYm80"
      },
      "outputs": [],
      "source": [
        "import numpy as np\n",
        "import pandas as pd\n",
        "import matplotlib.pyplot as plt\n",
        "from gym import spaces\n",
        "from matplotlib.offsetbox import AnnotationBbox, OffsetImage\n",
        "from operator import add\n",
        "from tabulate import tabulate\n",
        "import cv2\n",
        "from google.colab import widgets\n",
        "import gym\n",
        "import time\n",
        "from copy import deepcopy"
      ]
    },
    {
      "cell_type": "code",
      "source": [
        "class GridEnvironment(gym.Env):\n",
        "    metadata = { 'render.modes': []}\n",
        "\n",
        "    def __init__(self):\n",
        "        self.observation_space = spaces.Discrete(36)\n",
        "        self.action_space = spaces.Discrete(4)\n",
        "        self.max_timesteps = 50\n",
        "        \n",
        "    def reset(self):\n",
        "        self.timestep = 0\n",
        "        self.agent_pos = np.array([0, 0])\n",
        "        self.goal_pos = np.array([5, 5])\n",
        "        self.gold_pos = np.array([4, 3])\n",
        "        self.silver_pos = np.array([1, 1])\n",
        "        self.monster_1 = np.array([2, 5])\n",
        "        self.monster_2 = np.array([5, 1]) \n",
        "        self.pit_1 = np.array([0, 5])\n",
        "        self.pit_2 = np.array([2, 4])\n",
        "\n",
        "        agent_final_pos = self.agent_pos\n",
        "        \n",
        "        return agent_final_pos\n",
        "\n",
        "    def step(self, action):\n",
        "        test = deepcopy(self.agent_pos)\n",
        "\n",
        "        self.state = np.random.choice(self.observation_space.n)\n",
        "        if action == 0:\n",
        "            self.agent_pos[0] += 1\n",
        "        if action == 1:\n",
        "            self.agent_pos[0] -= 1\n",
        "        if action == 2:\n",
        "            self.agent_pos[1] += 1\n",
        "        if action == 3:\n",
        "            self.agent_pos[1] -= 1\n",
        "\n",
        "        self.agent_pos = np.clip(self.agent_pos, 0, 5)\n",
        "        observation = self.agent_pos\n",
        "\n",
        "        reward = -1\n",
        "        # print(self.agent_pos)\n",
        "        if (self.agent_pos == self.gold_pos).all():\n",
        "            reward = 20\n",
        "        if (self.agent_pos == self.silver_pos).all():\n",
        "            reward = 15\n",
        "        if (self.agent_pos == self.pit_1).all():\n",
        "            reward = -1\n",
        "        if (self.agent_pos == self.pit_2).all():\n",
        "            reward = -1\n",
        "        if (self.agent_pos == self.goal_pos).all():\n",
        "            reward = 1000\n",
        "        if (self.agent_pos == self.monster_1).all():\n",
        "            reward = -20\n",
        "        if (self.agent_pos == self.monster_2).all():\n",
        "            reward = -20\n",
        "        if (self.agent_pos == test).all():\n",
        "            reward += -30\n",
        "        test = deepcopy(observation)\n",
        "\n",
        "        self.timestep += 1\n",
        "        done = True if (self.timestep > self.max_timesteps) or (self.agent_pos == self.goal_pos).all() or (self.agent_pos == self.monster_1).all() or (self.agent_pos == self.monster_2).all() else False\n",
        "        info = {}\n",
        "\n",
        "        return observation, reward, done, info\n",
        "\n",
        "    def render(self):\n",
        "        fig, ax = plt.subplots(figsize=(10,10))\n",
        "        ax.set_xlim(0,6)\n",
        "        ax.set_ylim(0,6)\n",
        "\n",
        "        #plot agent\n",
        "        agent = AnnotationBbox(OffsetImage(plt.imread('./images/agent.png'), zoom = 0.5),np.add(self.agent_pos,[0.5,0.5]), frameon=False)\n",
        "        ax.add_artist(agent)\n",
        "\n",
        "        #plot monster_1\n",
        "        if (self.agent_pos[0] != self.monster_1[0]) or (self.agent_pos[1] != self.monster_1[1]):\n",
        "            monster_1 = AnnotationBbox(OffsetImage(plt.imread('./images/monster.png'), zoom = 0.5),np.add(self.monster_1,[0.5,0.5]), frameon=False)\n",
        "            ax.add_artist(monster_1)\n",
        "\n",
        "        #agent at monster 1\n",
        "        elif (self.agent_pos[0] == self.monster_1[0]) and (self.agent_pos[1] == self.monster_1[1]):\n",
        "            goal = AnnotationBbox(OffsetImage(plt.imread('./images/agent_died.png'), zoom = 0.5),np.add(self.monster_1,[0.5,0.5]), frameon=False)\n",
        "            ax.add_artist(goal)\n",
        "\n",
        "        #plot gold\n",
        "        if (self.agent_pos[0] != self.gold_pos[0]) or (self.agent_pos[1] != self.gold_pos[1]):\n",
        "            gold = AnnotationBbox(OffsetImage(plt.imread('./images/gold.png'), zoom = 0.5),np.add(self.gold_pos,[0.5,0.5]), frameon=False)\n",
        "            ax.add_artist(gold)\n",
        "\n",
        "        #agent at gold\n",
        "        elif (self.agent_pos[0] == self.gold_pos[0]) and (self.agent_pos[1] == self.gold_pos[1]):\n",
        "            gold = AnnotationBbox(OffsetImage(plt.imread('./images/agent_gold.png'), zoom = 0.5),np.add(self.gold_pos,[0.5,0.5]), frameon=False)\n",
        "            ax.add_artist(gold)\n",
        "\n",
        "        #plot monster_2\n",
        "        if (self.agent_pos[0] != self.monster_2[0]) or (self.agent_pos[1] != self.monster_2[1]):\n",
        "            monster_2 = AnnotationBbox(OffsetImage(plt.imread('./images/monster.png'), zoom = 0.5),np.add(self.monster_2,[0.5,0.5]), frameon=False)\n",
        "            ax.add_artist(monster_2)\n",
        "\n",
        "        #agent at monster 2\n",
        "        elif (self.agent_pos[0] == self.monster_2[0]) and (self.agent_pos[1] == self.monster_2[1]):\n",
        "            goal = AnnotationBbox(OffsetImage(plt.imread('./images/agent_died.png'), zoom = 0.5),np.add(self.monster_2,[0.5,0.5]), frameon=False)\n",
        "            ax.add_artist(goal)\n",
        "\n",
        "        #plot silver_pos\n",
        "        if (self.agent_pos[0] != self.silver_pos[0]) or (self.agent_pos[1] != self.silver_pos[1]):\n",
        "            silver = AnnotationBbox(OffsetImage(plt.imread('./images/silver.png'), zoom = 0.5),np.add(self.silver_pos,[0.5,0.5]), frameon=False)\n",
        "            ax.add_artist(silver)\n",
        "\n",
        "        #agent at silver_pos\n",
        "        elif (self.agent_pos[0] == self.silver_pos[0]) and (self.agent_pos[1] == self.silver_pos[1]) :\n",
        "            goal = AnnotationBbox(OffsetImage(plt.imread('./images/agent_silver.png'), zoom = 0.5),np.add(self.silver_pos,[0.5,0.5]), frameon=False)\n",
        "            ax.add_artist(goal)\n",
        "\n",
        "        #plot goal\n",
        "        if (self.agent_pos[0] != self.goal_pos[0]) or (self.agent_pos[1] != self.goal_pos[1]):\n",
        "            goal = AnnotationBbox(OffsetImage(plt.imread('./images/goal.png'), zoom = 0.5),np.add(self.goal_pos,[0.5,0.5]), frameon=False)\n",
        "            ax.add_artist(goal)\n",
        "\n",
        "        #agent at goal\n",
        "        elif (self.agent_pos[0] == self.goal_pos[0]) and (self.agent_pos[1] == self.goal_pos[1]):\n",
        "            goal = AnnotationBbox(OffsetImage(plt.imread('./images/agent_goal.png'), zoom = 0.5),np.add(self.goal_pos,[0.5,0.5]), frameon=False)\n",
        "            ax.add_artist(goal)\n",
        "\n",
        "        #plot pit_1\n",
        "        if (self.agent_pos[0] != self.pit_1[0]) or (self.agent_pos[1] != self.pit_1[1]):\n",
        "            pit = AnnotationBbox(OffsetImage(plt.imread('./images/pit.png'), zoom = 0.5),np.add(self.pit_1,[0.5,0.5]), frameon=False)\n",
        "            ax.add_artist(pit)\n",
        "\n",
        "        #agent at pit_1\n",
        "        elif (self.agent_pos[0] == self.pit_1[0]) and (self.agent_pos[1] == self.pit_1[1]):\n",
        "            goal = AnnotationBbox(OffsetImage(plt.imread('./images/agent_pit.png'), zoom = 0.5),np.add(self.pit_1,[0.5,0.5]), frameon=False)\n",
        "            ax.add_artist(goal)\n",
        "\n",
        "        #plot pit_2\n",
        "        if (self.agent_pos[0] != self.pit_2[0]) or (self.agent_pos[1] != self.pit_2[1]):\n",
        "            pit = AnnotationBbox(OffsetImage(plt.imread('./images/pit.png'), zoom = 0.5),np.add(self.pit_2,[0.5,0.5]), frameon=False)\n",
        "            ax.add_artist(pit)\n",
        "\n",
        "        #agent at pit_2\n",
        "        elif (self.agent_pos[0] == self.pit_2[0]) and (self.agent_pos[1] == self.pit_2[1]):\n",
        "            goal = AnnotationBbox(OffsetImage(plt.imread('./images/agent_pit.png'), zoom = 0.5),np.add(self.pit_2,[0.5,0.5]), frameon=False)\n",
        "            ax.add_artist(goal)\n",
        "\n",
        "        ax.set_xticks([0,1,2,3,4,5,6])\n",
        "        ax.set_yticks([0,1,2,3,4,5,6])\n",
        "        ax.grid()"
      ],
      "metadata": {
        "id": "kM0OZK8MYwLN"
      },
      "execution_count": 4,
      "outputs": []
    },
    {
      "cell_type": "code",
      "source": [
        "env = GridEnvironment()\n",
        "obs = env.reset()\n",
        "env.render()"
      ],
      "metadata": {
        "id": "-HvdJFfNbhky",
        "colab": {
          "base_uri": "https://localhost:8080/",
          "height": 595
        },
        "outputId": "45a6dbf3-9936-42ae-817c-e10c21b0d1f3"
      },
      "execution_count": 5,
      "outputs": [
        {
          "output_type": "display_data",
          "data": {
            "text/plain": [
              "<Figure size 720x720 with 1 Axes>"
            ],
            "image/png": "[encoded data removed]"
          },
          "metadata": {
            "needs_background": "light"
          }
        }
      ]
    },
    {
      "cell_type": "code",
      "source": [
        "class RandomAgent:\n",
        "  def __init__(self, env):\n",
        "    self.env = env\n",
        "    self.observation_space = env.observation_space\n",
        "    self.action_space = env.action_space\n",
        "\n",
        "  def step(self, observation):\n",
        "    return np.random.choice(self.action_space.n)"
      ],
      "metadata": {
        "id": "ITxj1WTV87gp"
      },
      "execution_count": 6,
      "outputs": []
    },
    {
      "cell_type": "code",
      "source": [
        "env = GridEnvironment()\n",
        "agent = RandomAgent(env)\n",
        "\n",
        "obs = env.reset()\n",
        "done = False\n",
        "\n",
        "output_grid = widgets.Grid(1, 1)\n",
        "with output_grid.output_to(0, 0):\n",
        "  env.render()\n",
        "moves = []\n",
        "while not done:\n",
        "  action = agent.step(obs)\n",
        "  obs, reward, done, info = env.step(action)\n",
        "  with output_grid.output_to(0, 0):\n",
        "    output_grid.clear_cell()\n",
        "    env.render()\n",
        "    action_taken = {0: 'right', 1: 'left ', 2: 'up   ', 3: 'down '}\n",
        "    print(f'Action = {action_taken[action]},   Agent position = {obs},   Reward = {reward}')\n",
        "    moves.append((f'Action = {action_taken[action]},   Agent position = {obs},   Reward = {reward}'))\n",
        "  time.sleep(1) \n",
        "for move in moves:\n",
        "  print(move)\n"
      ],
      "metadata": {
        "id": "vcifq7Ry91By",
        "colab": {
          "base_uri": "https://localhost:8080/",
          "height": 1000
        },
        "outputId": "b06d9340-b437-42d4-ec6f-dcecb19b63c7"
      },
      "execution_count": 7,
      "outputs": [
        {
          "output_type": "display_data",
          "data": {
            "text/plain": [
              "<IPython.core.display.HTML object>"
            ],
            "text/html": [
              "<style>\n",
              "       table#id2, #id2 > tbody > tr > th, #id2 > tbody > tr > td {\n",
              "         border: 1px solid lightgray;\n",
              "         border-collapse:collapse;\n",
              "         \n",
              "        }</style>"
            ]
          },
          "metadata": {}
        },
        {
          "output_type": "display_data",
          "data": {
            "text/plain": [
              "<IPython.core.display.HTML object>"
            ],
            "text/html": [
              "<table id=id2><tr><td id=id2-0-0></td></tr></table>"
            ]
          },
          "metadata": {}
        },
        {
          "output_type": "display_data",
          "data": {
            "text/plain": [
              "<IPython.core.display.Javascript object>"
            ],
            "application/javascript": [
              "window[\"fd9b8954-d326-11ec-960b-0242ac1c0002\"] = google.colab.output.getActiveOutputArea();\n",
              "//# sourceURL=js_4395630eb7"
            ]
          },
          "metadata": {}
        },
        {
          "output_type": "display_data",
          "data": {
            "text/plain": [
              "<IPython.core.display.Javascript object>"
            ],
            "application/javascript": [
              "window[\"fd9bd4f4-d326-11ec-960b-0242ac1c0002\"] = document.querySelector(\"#id2-0-0\");\n",
              "//# sourceURL=js_70443703cb"
            ]
          },
          "metadata": {}
        },
        {
          "output_type": "display_data",
          "data": {
            "text/plain": [
              "<IPython.core.display.Javascript object>"
            ],
            "application/javascript": [
              "window[\"fd9c6860-d326-11ec-960b-0242ac1c0002\"] = google.colab.output.setActiveOutputArea(window[\"fd9bd4f4-d326-11ec-960b-0242ac1c0002\"]);\n",
              "//# sourceURL=js_6685caabc0"
            ]
          },
          "metadata": {}
        },
        {
          "output_type": "display_data",
          "data": {
            "text/plain": [
              "<IPython.core.display.Javascript object>"
            ],
            "application/javascript": [
              "window[\"fdbe732e-d326-11ec-960b-0242ac1c0002\"] = google.colab.output.setActiveOutputArea(window[\"fd9b8954-d326-11ec-960b-0242ac1c0002\"]);\n",
              "//# sourceURL=js_dcc0289b04"
            ]
          },
          "metadata": {}
        },
        {
          "output_type": "display_data",
          "data": {
            "text/plain": [
              "<IPython.core.display.Javascript object>"
            ],
            "application/javascript": [
              "window[\"fdc0ffcc-d326-11ec-960b-0242ac1c0002\"] = google.colab.output.getActiveOutputArea();\n",
              "//# sourceURL=js_3f383818a9"
            ]
          },
          "metadata": {}
        },
        {
          "output_type": "display_data",
          "data": {
            "text/plain": [
              "<IPython.core.display.Javascript object>"
            ],
            "application/javascript": [
              "window[\"fdc14568-d326-11ec-960b-0242ac1c0002\"] = document.querySelector(\"#id2-0-0\");\n",
              "//# sourceURL=js_0c78f31f54"
            ]
          },
          "metadata": {}
        },
        {
          "output_type": "display_data",
          "data": {
            "text/plain": [
              "<IPython.core.display.Javascript object>"
            ],
            "application/javascript": [
              "window[\"fdc18654-d326-11ec-960b-0242ac1c0002\"] = google.colab.output.setActiveOutputArea(window[\"fdc14568-d326-11ec-960b-0242ac1c0002\"]);\n",
              "//# sourceURL=js_f00083960a"
            ]
          },
          "metadata": {}
        },
        {
          "output_type": "display_data",
          "data": {
            "text/plain": [
              "<IPython.core.display.Javascript object>"
            ],
            "application/javascript": [
              "window[\"fde3c1ce-d326-11ec-960b-0242ac1c0002\"] = google.colab.output.setActiveOutputArea(window[\"fdc0ffcc-d326-11ec-960b-0242ac1c0002\"]);\n",
              "//# sourceURL=js_294f98d15a"
            ]
          },
          "metadata": {}
        },
        {
          "output_type": "display_data",
          "data": {
            "text/plain": [
              "<IPython.core.display.Javascript object>"
            ],
            "application/javascript": [
              "window[\"fe7f081e-d326-11ec-960b-0242ac1c0002\"] = google.colab.output.getActiveOutputArea();\n",
              "//# sourceURL=js_c8d4b09eee"
            ]
          },
          "metadata": {}
        },
        {
          "output_type": "display_data",
          "data": {
            "text/plain": [
              "<IPython.core.display.Javascript object>"
            ],
            "application/javascript": [
              "window[\"fe7f8ab4-d326-11ec-960b-0242ac1c0002\"] = document.querySelector(\"#id2-0-0\");\n",
              "//# sourceURL=js_1e45cb3651"
            ]
          },
          "metadata": {}
        },
        {
          "output_type": "display_data",
          "data": {
            "text/plain": [
              "<IPython.core.display.Javascript object>"
            ],
            "application/javascript": [
              "window[\"fe7fc81c-d326-11ec-960b-0242ac1c0002\"] = google.colab.output.setActiveOutputArea(window[\"fe7f8ab4-d326-11ec-960b-0242ac1c0002\"]);\n",
              "//# sourceURL=js_3fc9a30bbb"
            ]
          },
          "metadata": {}
        },
        {
          "output_type": "display_data",
          "data": {
            "text/plain": [
              "<IPython.core.display.Javascript object>"
            ],
            "application/javascript": [
              "window[\"fe9d883e-d326-11ec-960b-0242ac1c0002\"] = google.colab.output.setActiveOutputArea(window[\"fe7f081e-d326-11ec-960b-0242ac1c0002\"]);\n",
              "//# sourceURL=js_08bb3b5956"
            ]
          },
          "metadata": {}
        },
        {
          "output_type": "display_data",
          "data": {
            "text/plain": [
              "<IPython.core.display.Javascript object>"
            ],
            "application/javascript": [
              "window[\"ff38de6a-d326-11ec-960b-0242ac1c0002\"] = google.colab.output.getActiveOutputArea();\n",
              "//# sourceURL=js_e6c91edbe1"
            ]
          },
          "metadata": {}
        },
        {
          "output_type": "display_data",
          "data": {
            "text/plain": [
              "<IPython.core.display.Javascript object>"
            ],
            "application/javascript": [
              "window[\"ff393982-d326-11ec-960b-0242ac1c0002\"] = document.querySelector(\"#id2-0-0\");\n",
              "//# sourceURL=js_78a1253362"
            ]
          },
          "metadata": {}
        },
        {
          "output_type": "display_data",
          "data": {
            "text/plain": [
              "<IPython.core.display.Javascript object>"
            ],
            "application/javascript": [
              "window[\"ff39ba24-d326-11ec-960b-0242ac1c0002\"] = google.colab.output.setActiveOutputArea(window[\"ff393982-d326-11ec-960b-0242ac1c0002\"]);\n",
              "//# sourceURL=js_a14972cac9"
            ]
          },
          "metadata": {}
        },
        {
          "output_type": "display_data",
          "data": {
            "text/plain": [
              "<IPython.core.display.Javascript object>"
            ],
            "application/javascript": [
              "window[\"ff73ff36-d326-11ec-960b-0242ac1c0002\"] = google.colab.output.setActiveOutputArea(window[\"ff38de6a-d326-11ec-960b-0242ac1c0002\"]);\n",
              "//# sourceURL=js_e0f49db97b"
            ]
          },
          "metadata": {}
        },
        {
          "output_type": "display_data",
          "data": {
            "text/plain": [
              "<IPython.core.display.Javascript object>"
            ],
            "application/javascript": [
              "window[\"0010bac4-d327-11ec-960b-0242ac1c0002\"] = google.colab.output.getActiveOutputArea();\n",
              "//# sourceURL=js_b86c6520b8"
            ]
          },
          "metadata": {}
        },
        {
          "output_type": "display_data",
          "data": {
            "text/plain": [
              "<IPython.core.display.Javascript object>"
            ],
            "application/javascript": [
              "window[\"0011acae-d327-11ec-960b-0242ac1c0002\"] = document.querySelector(\"#id2-0-0\");\n",
              "//# sourceURL=js_51f9c02f42"
            ]
          },
          "metadata": {}
        },
        {
          "output_type": "display_data",
          "data": {
            "text/plain": [
              "<IPython.core.display.Javascript object>"
            ],
            "application/javascript": [
              "window[\"00129baa-d327-11ec-960b-0242ac1c0002\"] = google.colab.output.setActiveOutputArea(window[\"0011acae-d327-11ec-960b-0242ac1c0002\"]);\n",
              "//# sourceURL=js_96a50f8310"
            ]
          },
          "metadata": {}
        },
        {
          "output_type": "display_data",
          "data": {
            "text/plain": [
              "<IPython.core.display.Javascript object>"
            ],
            "application/javascript": [
              "window[\"004513c8-d327-11ec-960b-0242ac1c0002\"] = google.colab.output.setActiveOutputArea(window[\"0010bac4-d327-11ec-960b-0242ac1c0002\"]);\n",
              "//# sourceURL=js_0f4eae47d0"
            ]
          },
          "metadata": {}
        },
        {
          "output_type": "display_data",
          "data": {
            "text/plain": [
              "<IPython.core.display.Javascript object>"
            ],
            "application/javascript": [
              "window[\"00e03510-d327-11ec-960b-0242ac1c0002\"] = google.colab.output.getActiveOutputArea();\n",
              "//# sourceURL=js_e497b4b599"
            ]
          },
          "metadata": {}
        },
        {
          "output_type": "display_data",
          "data": {
            "text/plain": [
              "<IPython.core.display.Javascript object>"
            ],
            "application/javascript": [
              "window[\"00e08b8c-d327-11ec-960b-0242ac1c0002\"] = document.querySelector(\"#id2-0-0\");\n",
              "//# sourceURL=js_8e8ef4d238"
            ]
          },
          "metadata": {}
        },
        {
          "output_type": "display_data",
          "data": {
            "text/plain": [
              "<IPython.core.display.Javascript object>"
            ],
            "application/javascript": [
              "window[\"00e10152-d327-11ec-960b-0242ac1c0002\"] = google.colab.output.setActiveOutputArea(window[\"00e08b8c-d327-11ec-960b-0242ac1c0002\"]);\n",
              "//# sourceURL=js_68b1815336"
            ]
          },
          "metadata": {}
        },
        {
          "output_type": "display_data",
          "data": {
            "text/plain": [
              "<IPython.core.display.Javascript object>"
            ],
            "application/javascript": [
              "window[\"0149fbee-d327-11ec-960b-0242ac1c0002\"] = google.colab.output.setActiveOutputArea(window[\"00e03510-d327-11ec-960b-0242ac1c0002\"]);\n",
              "//# sourceURL=js_0e8e1e9c40"
            ]
          },
          "metadata": {}
        },
        {
          "output_type": "display_data",
          "data": {
            "text/plain": [
              "<IPython.core.display.Javascript object>"
            ],
            "application/javascript": [
              "window[\"01e5b034-d327-11ec-960b-0242ac1c0002\"] = google.colab.output.getActiveOutputArea();\n",
              "//# sourceURL=js_d479f7074f"
            ]
          },
          "metadata": {}
        },
        {
          "output_type": "display_data",
          "data": {
            "text/plain": [
              "<IPython.core.display.Javascript object>"
            ],
            "application/javascript": [
              "window[\"01e78454-d327-11ec-960b-0242ac1c0002\"] = document.querySelector(\"#id2-0-0\");\n",
              "//# sourceURL=js_83db4aa70d"
            ]
          },
          "metadata": {}
        },
        {
          "output_type": "display_data",
          "data": {
            "text/plain": [
              "<IPython.core.display.Javascript object>"
            ],
            "application/javascript": [
              "window[\"01e81b12-d327-11ec-960b-0242ac1c0002\"] = google.colab.output.setActiveOutputArea(window[\"01e78454-d327-11ec-960b-0242ac1c0002\"]);\n",
              "//# sourceURL=js_6e90936002"
            ]
          },
          "metadata": {}
        },
        {
          "output_type": "display_data",
          "data": {
            "text/plain": [
              "<IPython.core.display.Javascript object>"
            ],
            "application/javascript": [
              "window[\"0213d162-d327-11ec-960b-0242ac1c0002\"] = google.colab.output.setActiveOutputArea(window[\"01e5b034-d327-11ec-960b-0242ac1c0002\"]);\n",
              "//# sourceURL=js_b08fd58549"
            ]
          },
          "metadata": {}
        },
        {
          "output_type": "display_data",
          "data": {
            "text/plain": [
              "<IPython.core.display.Javascript object>"
            ],
            "application/javascript": [
              "window[\"02b0c4f4-d327-11ec-960b-0242ac1c0002\"] = google.colab.output.getActiveOutputArea();\n",
              "//# sourceURL=js_a1bb55c808"
            ]
          },
          "metadata": {}
        },
        {
          "output_type": "display_data",
          "data": {
            "text/plain": [
              "<IPython.core.display.Javascript object>"
            ],
            "application/javascript": [
              "window[\"02b1581a-d327-11ec-960b-0242ac1c0002\"] = document.querySelector(\"#id2-0-0\");\n",
              "//# sourceURL=js_5129265ca7"
            ]
          },
          "metadata": {}
        },
        {
          "output_type": "display_data",
          "data": {
            "text/plain": [
              "<IPython.core.display.Javascript object>"
            ],
            "application/javascript": [
              "window[\"02b1f1c6-d327-11ec-960b-0242ac1c0002\"] = google.colab.output.setActiveOutputArea(window[\"02b1581a-d327-11ec-960b-0242ac1c0002\"]);\n",
              "//# sourceURL=js_71f5d5eb97"
            ]
          },
          "metadata": {}
        },
        {
          "output_type": "display_data",
          "data": {
            "text/plain": [
              "<IPython.core.display.Javascript object>"
            ],
            "application/javascript": [
              "window[\"02cd4660-d327-11ec-960b-0242ac1c0002\"] = google.colab.output.setActiveOutputArea(window[\"02b0c4f4-d327-11ec-960b-0242ac1c0002\"]);\n",
              "//# sourceURL=js_66d4d7fb27"
            ]
          },
          "metadata": {}
        },
        {
          "output_type": "display_data",
          "data": {
            "text/plain": [
              "<IPython.core.display.Javascript object>"
            ],
            "application/javascript": [
              "window[\"036a0e00-d327-11ec-960b-0242ac1c0002\"] = google.colab.output.getActiveOutputArea();\n",
              "//# sourceURL=js_991ff5e44c"
            ]
          },
          "metadata": {}
        },
        {
          "output_type": "display_data",
          "data": {
            "text/plain": [
              "<IPython.core.display.Javascript object>"
            ],
            "application/javascript": [
              "window[\"036a5e0a-d327-11ec-960b-0242ac1c0002\"] = document.querySelector(\"#id2-0-0\");\n",
              "//# sourceURL=js_02a8c769bf"
            ]
          },
          "metadata": {}
        },
        {
          "output_type": "display_data",
          "data": {
            "text/plain": [
              "<IPython.core.display.Javascript object>"
            ],
            "application/javascript": [
              "window[\"036ac1ba-d327-11ec-960b-0242ac1c0002\"] = google.colab.output.setActiveOutputArea(window[\"036a5e0a-d327-11ec-960b-0242ac1c0002\"]);\n",
              "//# sourceURL=js_b647358bb9"
            ]
          },
          "metadata": {}
        },
        {
          "output_type": "display_data",
          "data": {
            "text/plain": [
              "<IPython.core.display.Javascript object>"
            ],
            "application/javascript": [
              "window[\"0385e5f8-d327-11ec-960b-0242ac1c0002\"] = google.colab.output.setActiveOutputArea(window[\"036a0e00-d327-11ec-960b-0242ac1c0002\"]);\n",
              "//# sourceURL=js_9049e23f0d"
            ]
          },
          "metadata": {}
        },
        {
          "output_type": "display_data",
          "data": {
            "text/plain": [
              "<IPython.core.display.Javascript object>"
            ],
            "application/javascript": [
              "window[\"0421782e-d327-11ec-960b-0242ac1c0002\"] = google.colab.output.getActiveOutputArea();\n",
              "//# sourceURL=js_95aa89e9a5"
            ]
          },
          "metadata": {}
        },
        {
          "output_type": "display_data",
          "data": {
            "text/plain": [
              "<IPython.core.display.Javascript object>"
            ],
            "application/javascript": [
              "window[\"0421be42-d327-11ec-960b-0242ac1c0002\"] = document.querySelector(\"#id2-0-0\");\n",
              "//# sourceURL=js_bc4f2ed96d"
            ]
          },
          "metadata": {}
        },
        {
          "output_type": "display_data",
          "data": {
            "text/plain": [
              "<IPython.core.display.Javascript object>"
            ],
            "application/javascript": [
              "window[\"0421fdd0-d327-11ec-960b-0242ac1c0002\"] = google.colab.output.setActiveOutputArea(window[\"0421be42-d327-11ec-960b-0242ac1c0002\"]);\n",
              "//# sourceURL=js_d11e234ae7"
            ]
          },
          "metadata": {}
        },
        {
          "output_type": "display_data",
          "data": {
            "text/plain": [
              "<IPython.core.display.Javascript object>"
            ],
            "application/javascript": [
              "window[\"043c81be-d327-11ec-960b-0242ac1c0002\"] = google.colab.output.setActiveOutputArea(window[\"0421782e-d327-11ec-960b-0242ac1c0002\"]);\n",
              "//# sourceURL=js_5e7dab1f4c"
            ]
          },
          "metadata": {}
        },
        {
          "output_type": "display_data",
          "data": {
            "text/plain": [
              "<IPython.core.display.Javascript object>"
            ],
            "application/javascript": [
              "window[\"04d7d9a2-d327-11ec-960b-0242ac1c0002\"] = google.colab.output.getActiveOutputArea();\n",
              "//# sourceURL=js_86695ea8ea"
            ]
          },
          "metadata": {}
        },
        {
          "output_type": "display_data",
          "data": {
            "text/plain": [
              "<IPython.core.display.Javascript object>"
            ],
            "application/javascript": [
              "window[\"04d81250-d327-11ec-960b-0242ac1c0002\"] = document.querySelector(\"#id2-0-0\");\n",
              "//# sourceURL=js_45be0cc40a"
            ]
          },
          "metadata": {}
        },
        {
          "output_type": "display_data",
          "data": {
            "text/plain": [
              "<IPython.core.display.Javascript object>"
            ],
            "application/javascript": [
              "window[\"04d8482e-d327-11ec-960b-0242ac1c0002\"] = google.colab.output.setActiveOutputArea(window[\"04d81250-d327-11ec-960b-0242ac1c0002\"]);\n",
              "//# sourceURL=js_ef78ffdc90"
            ]
          },
          "metadata": {}
        },
        {
          "output_type": "display_data",
          "data": {
            "text/plain": [
              "<IPython.core.display.Javascript object>"
            ],
            "application/javascript": [
              "window[\"04f2a264-d327-11ec-960b-0242ac1c0002\"] = google.colab.output.setActiveOutputArea(window[\"04d7d9a2-d327-11ec-960b-0242ac1c0002\"]);\n",
              "//# sourceURL=js_b514c7a257"
            ]
          },
          "metadata": {}
        },
        {
          "output_type": "display_data",
          "data": {
            "text/plain": [
              "<IPython.core.display.Javascript object>"
            ],
            "application/javascript": [
              "window[\"058dbcea-d327-11ec-960b-0242ac1c0002\"] = google.colab.output.getActiveOutputArea();\n",
              "//# sourceURL=js_c835b5bbb7"
            ]
          },
          "metadata": {}
        },
        {
          "output_type": "display_data",
          "data": {
            "text/plain": [
              "<IPython.core.display.Javascript object>"
            ],
            "application/javascript": [
              "window[\"058dfd22-d327-11ec-960b-0242ac1c0002\"] = document.querySelector(\"#id2-0-0\");\n",
              "//# sourceURL=js_7fc4283bbc"
            ]
          },
          "metadata": {}
        },
        {
          "output_type": "display_data",
          "data": {
            "text/plain": [
              "<IPython.core.display.Javascript object>"
            ],
            "application/javascript": [
              "window[\"058e48e0-d327-11ec-960b-0242ac1c0002\"] = google.colab.output.setActiveOutputArea(window[\"058dfd22-d327-11ec-960b-0242ac1c0002\"]);\n",
              "//# sourceURL=js_85f1127b3f"
            ]
          },
          "metadata": {}
        },
        {
          "output_type": "display_data",
          "data": {
            "text/plain": [
              "<IPython.core.display.Javascript object>"
            ],
            "application/javascript": [
              "window[\"05a8f4e2-d327-11ec-960b-0242ac1c0002\"] = google.colab.output.setActiveOutputArea(window[\"058dbcea-d327-11ec-960b-0242ac1c0002\"]);\n",
              "//# sourceURL=js_ffab6b77e1"
            ]
          },
          "metadata": {}
        },
        {
          "output_type": "display_data",
          "data": {
            "text/plain": [
              "<IPython.core.display.Javascript object>"
            ],
            "application/javascript": [
              "window[\"0643bb26-d327-11ec-960b-0242ac1c0002\"] = google.colab.output.getActiveOutputArea();\n",
              "//# sourceURL=js_36c4a41a5f"
            ]
          },
          "metadata": {}
        },
        {
          "output_type": "display_data",
          "data": {
            "text/plain": [
              "<IPython.core.display.Javascript object>"
            ],
            "application/javascript": [
              "window[\"0643f6a4-d327-11ec-960b-0242ac1c0002\"] = document.querySelector(\"#id2-0-0\");\n",
              "//# sourceURL=js_867dd19b75"
            ]
          },
          "metadata": {}
        },
        {
          "output_type": "display_data",
          "data": {
            "text/plain": [
              "<IPython.core.display.Javascript object>"
            ],
            "application/javascript": [
              "window[\"06442c5a-d327-11ec-960b-0242ac1c0002\"] = google.colab.output.setActiveOutputArea(window[\"0643f6a4-d327-11ec-960b-0242ac1c0002\"]);\n",
              "//# sourceURL=js_c985b193a2"
            ]
          },
          "metadata": {}
        },
        {
          "output_type": "display_data",
          "data": {
            "text/plain": [
              "<IPython.core.display.Javascript object>"
            ],
            "application/javascript": [
              "window[\"065fa930-d327-11ec-960b-0242ac1c0002\"] = google.colab.output.setActiveOutputArea(window[\"0643bb26-d327-11ec-960b-0242ac1c0002\"]);\n",
              "//# sourceURL=js_76b50cff82"
            ]
          },
          "metadata": {}
        },
        {
          "output_type": "display_data",
          "data": {
            "text/plain": [
              "<IPython.core.display.Javascript object>"
            ],
            "application/javascript": [
              "window[\"06fa954e-d327-11ec-960b-0242ac1c0002\"] = google.colab.output.getActiveOutputArea();\n",
              "//# sourceURL=js_77d3247f86"
            ]
          },
          "metadata": {}
        },
        {
          "output_type": "display_data",
          "data": {
            "text/plain": [
              "<IPython.core.display.Javascript object>"
            ],
            "application/javascript": [
              "window[\"06fad310-d327-11ec-960b-0242ac1c0002\"] = document.querySelector(\"#id2-0-0\");\n",
              "//# sourceURL=js_27a49644a7"
            ]
          },
          "metadata": {}
        },
        {
          "output_type": "display_data",
          "data": {
            "text/plain": [
              "<IPython.core.display.Javascript object>"
            ],
            "application/javascript": [
              "window[\"06fb2d60-d327-11ec-960b-0242ac1c0002\"] = google.colab.output.setActiveOutputArea(window[\"06fad310-d327-11ec-960b-0242ac1c0002\"]);\n",
              "//# sourceURL=js_5e118b9d8e"
            ]
          },
          "metadata": {}
        },
        {
          "output_type": "display_data",
          "data": {
            "text/plain": [
              "<IPython.core.display.Javascript object>"
            ],
            "application/javascript": [
              "window[\"07188626-d327-11ec-960b-0242ac1c0002\"] = google.colab.output.setActiveOutputArea(window[\"06fa954e-d327-11ec-960b-0242ac1c0002\"]);\n",
              "//# sourceURL=js_1752259112"
            ]
          },
          "metadata": {}
        },
        {
          "output_type": "display_data",
          "data": {
            "text/plain": [
              "<IPython.core.display.Javascript object>"
            ],
            "application/javascript": [
              "window[\"07b4149c-d327-11ec-960b-0242ac1c0002\"] = google.colab.output.getActiveOutputArea();\n",
              "//# sourceURL=js_44a4d81105"
            ]
          },
          "metadata": {}
        },
        {
          "output_type": "display_data",
          "data": {
            "text/plain": [
              "<IPython.core.display.Javascript object>"
            ],
            "application/javascript": [
              "window[\"07b44ef8-d327-11ec-960b-0242ac1c0002\"] = document.querySelector(\"#id2-0-0\");\n",
              "//# sourceURL=js_c915489c84"
            ]
          },
          "metadata": {}
        },
        {
          "output_type": "display_data",
          "data": {
            "text/plain": [
              "<IPython.core.display.Javascript object>"
            ],
            "application/javascript": [
              "window[\"07b4871a-d327-11ec-960b-0242ac1c0002\"] = google.colab.output.setActiveOutputArea(window[\"07b44ef8-d327-11ec-960b-0242ac1c0002\"]);\n",
              "//# sourceURL=js_ad360d748e"
            ]
          },
          "metadata": {}
        },
        {
          "output_type": "display_data",
          "data": {
            "text/plain": [
              "<IPython.core.display.Javascript object>"
            ],
            "application/javascript": [
              "window[\"07d00ac6-d327-11ec-960b-0242ac1c0002\"] = google.colab.output.setActiveOutputArea(window[\"07b4149c-d327-11ec-960b-0242ac1c0002\"]);\n",
              "//# sourceURL=js_c5b4516761"
            ]
          },
          "metadata": {}
        },
        {
          "output_type": "display_data",
          "data": {
            "text/plain": [
              "<IPython.core.display.Javascript object>"
            ],
            "application/javascript": [
              "window[\"086bfb98-d327-11ec-960b-0242ac1c0002\"] = google.colab.output.getActiveOutputArea();\n",
              "//# sourceURL=js_db0c7a0773"
            ]
          },
          "metadata": {}
        },
        {
          "output_type": "display_data",
          "data": {
            "text/plain": [
              "<IPython.core.display.Javascript object>"
            ],
            "application/javascript": [
              "window[\"086c59bc-d327-11ec-960b-0242ac1c0002\"] = document.querySelector(\"#id2-0-0\");\n",
              "//# sourceURL=js_14a50e473f"
            ]
          },
          "metadata": {}
        },
        {
          "output_type": "display_data",
          "data": {
            "text/plain": [
              "<IPython.core.display.Javascript object>"
            ],
            "application/javascript": [
              "window[\"086cb8ee-d327-11ec-960b-0242ac1c0002\"] = google.colab.output.setActiveOutputArea(window[\"086c59bc-d327-11ec-960b-0242ac1c0002\"]);\n",
              "//# sourceURL=js_8658d667e7"
            ]
          },
          "metadata": {}
        },
        {
          "output_type": "display_data",
          "data": {
            "text/plain": [
              "<IPython.core.display.Javascript object>"
            ],
            "application/javascript": [
              "window[\"0888d92a-d327-11ec-960b-0242ac1c0002\"] = google.colab.output.setActiveOutputArea(window[\"086bfb98-d327-11ec-960b-0242ac1c0002\"]);\n",
              "//# sourceURL=js_df299537dc"
            ]
          },
          "metadata": {}
        },
        {
          "output_type": "display_data",
          "data": {
            "text/plain": [
              "<IPython.core.display.Javascript object>"
            ],
            "application/javascript": [
              "window[\"09239b2c-d327-11ec-960b-0242ac1c0002\"] = google.colab.output.getActiveOutputArea();\n",
              "//# sourceURL=js_e9edc8349b"
            ]
          },
          "metadata": {}
        },
        {
          "output_type": "display_data",
          "data": {
            "text/plain": [
              "<IPython.core.display.Javascript object>"
            ],
            "application/javascript": [
              "window[\"0923e7e4-d327-11ec-960b-0242ac1c0002\"] = document.querySelector(\"#id2-0-0\");\n",
              "//# sourceURL=js_05d9a0dcab"
            ]
          },
          "metadata": {}
        },
        {
          "output_type": "display_data",
          "data": {
            "text/plain": [
              "<IPython.core.display.Javascript object>"
            ],
            "application/javascript": [
              "window[\"09242786-d327-11ec-960b-0242ac1c0002\"] = google.colab.output.setActiveOutputArea(window[\"0923e7e4-d327-11ec-960b-0242ac1c0002\"]);\n",
              "//# sourceURL=js_fcaa6a5e05"
            ]
          },
          "metadata": {}
        },
        {
          "output_type": "display_data",
          "data": {
            "text/plain": [
              "<IPython.core.display.Javascript object>"
            ],
            "application/javascript": [
              "window[\"0949566e-d327-11ec-960b-0242ac1c0002\"] = google.colab.output.setActiveOutputArea(window[\"09239b2c-d327-11ec-960b-0242ac1c0002\"]);\n",
              "//# sourceURL=js_62a89ec4f7"
            ]
          },
          "metadata": {}
        },
        {
          "output_type": "display_data",
          "data": {
            "text/plain": [
              "<IPython.core.display.Javascript object>"
            ],
            "application/javascript": [
              "window[\"09e50b2c-d327-11ec-960b-0242ac1c0002\"] = google.colab.output.getActiveOutputArea();\n",
              "//# sourceURL=js_8a96c4e4aa"
            ]
          },
          "metadata": {}
        },
        {
          "output_type": "display_data",
          "data": {
            "text/plain": [
              "<IPython.core.display.Javascript object>"
            ],
            "application/javascript": [
              "window[\"09e566b2-d327-11ec-960b-0242ac1c0002\"] = document.querySelector(\"#id2-0-0\");\n",
              "//# sourceURL=js_aad979cc66"
            ]
          },
          "metadata": {}
        },
        {
          "output_type": "display_data",
          "data": {
            "text/plain": [
              "<IPython.core.display.Javascript object>"
            ],
            "application/javascript": [
              "window[\"09e5baa4-d327-11ec-960b-0242ac1c0002\"] = google.colab.output.setActiveOutputArea(window[\"09e566b2-d327-11ec-960b-0242ac1c0002\"]);\n",
              "//# sourceURL=js_036f8b4837"
            ]
          },
          "metadata": {}
        },
        {
          "output_type": "display_data",
          "data": {
            "text/plain": [
              "<IPython.core.display.Javascript object>"
            ],
            "application/javascript": [
              "window[\"0a030f32-d327-11ec-960b-0242ac1c0002\"] = google.colab.output.setActiveOutputArea(window[\"09e50b2c-d327-11ec-960b-0242ac1c0002\"]);\n",
              "//# sourceURL=js_f56c280252"
            ]
          },
          "metadata": {}
        },
        {
          "output_type": "display_data",
          "data": {
            "text/plain": [
              "<IPython.core.display.Javascript object>"
            ],
            "application/javascript": [
              "window[\"0a9d795a-d327-11ec-960b-0242ac1c0002\"] = google.colab.output.getActiveOutputArea();\n",
              "//# sourceURL=js_b548f6e017"
            ]
          },
          "metadata": {}
        },
        {
          "output_type": "display_data",
          "data": {
            "text/plain": [
              "<IPython.core.display.Javascript object>"
            ],
            "application/javascript": [
              "window[\"0a9db35c-d327-11ec-960b-0242ac1c0002\"] = document.querySelector(\"#id2-0-0\");\n",
              "//# sourceURL=js_ac965b06c1"
            ]
          },
          "metadata": {}
        },
        {
          "output_type": "display_data",
          "data": {
            "text/plain": [
              "<IPython.core.display.Javascript object>"
            ],
            "application/javascript": [
              "window[\"0a9e0640-d327-11ec-960b-0242ac1c0002\"] = google.colab.output.setActiveOutputArea(window[\"0a9db35c-d327-11ec-960b-0242ac1c0002\"]);\n",
              "//# sourceURL=js_3a7aefb858"
            ]
          },
          "metadata": {}
        },
        {
          "output_type": "display_data",
          "data": {
            "text/plain": [
              "<IPython.core.display.Javascript object>"
            ],
            "application/javascript": [
              "window[\"0aba1060-d327-11ec-960b-0242ac1c0002\"] = google.colab.output.setActiveOutputArea(window[\"0a9d795a-d327-11ec-960b-0242ac1c0002\"]);\n",
              "//# sourceURL=js_c8adcbd45c"
            ]
          },
          "metadata": {}
        },
        {
          "output_type": "display_data",
          "data": {
            "text/plain": [
              "<IPython.core.display.Javascript object>"
            ],
            "application/javascript": [
              "window[\"0b55fc00-d327-11ec-960b-0242ac1c0002\"] = google.colab.output.getActiveOutputArea();\n",
              "//# sourceURL=js_38a7420c9c"
            ]
          },
          "metadata": {}
        },
        {
          "output_type": "display_data",
          "data": {
            "text/plain": [
              "<IPython.core.display.Javascript object>"
            ],
            "application/javascript": [
              "window[\"0b5635e4-d327-11ec-960b-0242ac1c0002\"] = document.querySelector(\"#id2-0-0\");\n",
              "//# sourceURL=js_35db62c3a1"
            ]
          },
          "metadata": {}
        },
        {
          "output_type": "display_data",
          "data": {
            "text/plain": [
              "<IPython.core.display.Javascript object>"
            ],
            "application/javascript": [
              "window[\"0b566e56-d327-11ec-960b-0242ac1c0002\"] = google.colab.output.setActiveOutputArea(window[\"0b5635e4-d327-11ec-960b-0242ac1c0002\"]);\n",
              "//# sourceURL=js_2c92a9aa12"
            ]
          },
          "metadata": {}
        },
        {
          "output_type": "display_data",
          "data": {
            "text/plain": [
              "<IPython.core.display.Javascript object>"
            ],
            "application/javascript": [
              "window[\"0b7288b6-d327-11ec-960b-0242ac1c0002\"] = google.colab.output.setActiveOutputArea(window[\"0b55fc00-d327-11ec-960b-0242ac1c0002\"]);\n",
              "//# sourceURL=js_a468fd4806"
            ]
          },
          "metadata": {}
        },
        {
          "output_type": "display_data",
          "data": {
            "text/plain": [
              "<IPython.core.display.Javascript object>"
            ],
            "application/javascript": [
              "window[\"0c0d3f3c-d327-11ec-960b-0242ac1c0002\"] = google.colab.output.getActiveOutputArea();\n",
              "//# sourceURL=js_b506a3bbf2"
            ]
          },
          "metadata": {}
        },
        {
          "output_type": "display_data",
          "data": {
            "text/plain": [
              "<IPython.core.display.Javascript object>"
            ],
            "application/javascript": [
              "window[\"0c0d803c-d327-11ec-960b-0242ac1c0002\"] = document.querySelector(\"#id2-0-0\");\n",
              "//# sourceURL=js_47854f78be"
            ]
          },
          "metadata": {}
        },
        {
          "output_type": "display_data",
          "data": {
            "text/plain": [
              "<IPython.core.display.Javascript object>"
            ],
            "application/javascript": [
              "window[\"0c0dbda4-d327-11ec-960b-0242ac1c0002\"] = google.colab.output.setActiveOutputArea(window[\"0c0d803c-d327-11ec-960b-0242ac1c0002\"]);\n",
              "//# sourceURL=js_9ffadd398b"
            ]
          },
          "metadata": {}
        },
        {
          "output_type": "display_data",
          "data": {
            "text/plain": [
              "<IPython.core.display.Javascript object>"
            ],
            "application/javascript": [
              "window[\"0c282a5e-d327-11ec-960b-0242ac1c0002\"] = google.colab.output.setActiveOutputArea(window[\"0c0d3f3c-d327-11ec-960b-0242ac1c0002\"]);\n",
              "//# sourceURL=js_6799d7f597"
            ]
          },
          "metadata": {}
        },
        {
          "output_type": "display_data",
          "data": {
            "text/plain": [
              "<IPython.core.display.Javascript object>"
            ],
            "application/javascript": [
              "window[\"0cc50a68-d327-11ec-960b-0242ac1c0002\"] = google.colab.output.getActiveOutputArea();\n",
              "//# sourceURL=js_1d0e06d0cb"
            ]
          },
          "metadata": {}
        },
        {
          "output_type": "display_data",
          "data": {
            "text/plain": [
              "<IPython.core.display.Javascript object>"
            ],
            "application/javascript": [
              "window[\"0cc5582e-d327-11ec-960b-0242ac1c0002\"] = document.querySelector(\"#id2-0-0\");\n",
              "//# sourceURL=js_0a315fa1ab"
            ]
          },
          "metadata": {}
        },
        {
          "output_type": "display_data",
          "data": {
            "text/plain": [
              "<IPython.core.display.Javascript object>"
            ],
            "application/javascript": [
              "window[\"0cc5a78e-d327-11ec-960b-0242ac1c0002\"] = google.colab.output.setActiveOutputArea(window[\"0cc5582e-d327-11ec-960b-0242ac1c0002\"]);\n",
              "//# sourceURL=js_2f21b35203"
            ]
          },
          "metadata": {}
        },
        {
          "output_type": "display_data",
          "data": {
            "text/plain": [
              "<IPython.core.display.Javascript object>"
            ],
            "application/javascript": [
              "window[\"0ce13512-d327-11ec-960b-0242ac1c0002\"] = google.colab.output.setActiveOutputArea(window[\"0cc50a68-d327-11ec-960b-0242ac1c0002\"]);\n",
              "//# sourceURL=js_12c8e214d3"
            ]
          },
          "metadata": {}
        },
        {
          "output_type": "display_data",
          "data": {
            "text/plain": [
              "<IPython.core.display.Javascript object>"
            ],
            "application/javascript": [
              "window[\"0d7bc23a-d327-11ec-960b-0242ac1c0002\"] = google.colab.output.getActiveOutputArea();\n",
              "//# sourceURL=js_521efe2655"
            ]
          },
          "metadata": {}
        },
        {
          "output_type": "display_data",
          "data": {
            "text/plain": [
              "<IPython.core.display.Javascript object>"
            ],
            "application/javascript": [
              "window[\"0d7c00b0-d327-11ec-960b-0242ac1c0002\"] = document.querySelector(\"#id2-0-0\");\n",
              "//# sourceURL=js_81a006533a"
            ]
          },
          "metadata": {}
        },
        {
          "output_type": "display_data",
          "data": {
            "text/plain": [
              "<IPython.core.display.Javascript object>"
            ],
            "application/javascript": [
              "window[\"0d7c4746-d327-11ec-960b-0242ac1c0002\"] = google.colab.output.setActiveOutputArea(window[\"0d7c00b0-d327-11ec-960b-0242ac1c0002\"]);\n",
              "//# sourceURL=js_5fe6ec05da"
            ]
          },
          "metadata": {}
        },
        {
          "output_type": "display_data",
          "data": {
            "text/plain": [
              "<IPython.core.display.Javascript object>"
            ],
            "application/javascript": [
              "window[\"0d970392-d327-11ec-960b-0242ac1c0002\"] = google.colab.output.setActiveOutputArea(window[\"0d7bc23a-d327-11ec-960b-0242ac1c0002\"]);\n",
              "//# sourceURL=js_72dc960dac"
            ]
          },
          "metadata": {}
        },
        {
          "output_type": "display_data",
          "data": {
            "text/plain": [
              "<IPython.core.display.Javascript object>"
            ],
            "application/javascript": [
              "window[\"0e31d1ba-d327-11ec-960b-0242ac1c0002\"] = google.colab.output.getActiveOutputArea();\n",
              "//# sourceURL=js_c24e21d7a4"
            ]
          },
          "metadata": {}
        },
        {
          "output_type": "display_data",
          "data": {
            "text/plain": [
              "<IPython.core.display.Javascript object>"
            ],
            "application/javascript": [
              "window[\"0e320c16-d327-11ec-960b-0242ac1c0002\"] = document.querySelector(\"#id2-0-0\");\n",
              "//# sourceURL=js_56bcd40452"
            ]
          },
          "metadata": {}
        },
        {
          "output_type": "display_data",
          "data": {
            "text/plain": [
              "<IPython.core.display.Javascript object>"
            ],
            "application/javascript": [
              "window[\"0e32c2b4-d327-11ec-960b-0242ac1c0002\"] = google.colab.output.setActiveOutputArea(window[\"0e320c16-d327-11ec-960b-0242ac1c0002\"]);\n",
              "//# sourceURL=js_4083938c94"
            ]
          },
          "metadata": {}
        },
        {
          "output_type": "display_data",
          "data": {
            "text/plain": [
              "<IPython.core.display.Javascript object>"
            ],
            "application/javascript": [
              "window[\"0e4f09c4-d327-11ec-960b-0242ac1c0002\"] = google.colab.output.setActiveOutputArea(window[\"0e31d1ba-d327-11ec-960b-0242ac1c0002\"]);\n",
              "//# sourceURL=js_66f10efeea"
            ]
          },
          "metadata": {}
        },
        {
          "output_type": "display_data",
          "data": {
            "text/plain": [
              "<IPython.core.display.Javascript object>"
            ],
            "application/javascript": [
              "window[\"0ee9bcd0-d327-11ec-960b-0242ac1c0002\"] = google.colab.output.getActiveOutputArea();\n",
              "//# sourceURL=js_0a8e457dfe"
            ]
          },
          "metadata": {}
        },
        {
          "output_type": "display_data",
          "data": {
            "text/plain": [
              "<IPython.core.display.Javascript object>"
            ],
            "application/javascript": [
              "window[\"0eea0ab4-d327-11ec-960b-0242ac1c0002\"] = document.querySelector(\"#id2-0-0\");\n",
              "//# sourceURL=js_1c11f8f661"
            ]
          },
          "metadata": {}
        },
        {
          "output_type": "display_data",
          "data": {
            "text/plain": [
              "<IPython.core.display.Javascript object>"
            ],
            "application/javascript": [
              "window[\"0eea5348-d327-11ec-960b-0242ac1c0002\"] = google.colab.output.setActiveOutputArea(window[\"0eea0ab4-d327-11ec-960b-0242ac1c0002\"]);\n",
              "//# sourceURL=js_efdce7a6f5"
            ]
          },
          "metadata": {}
        },
        {
          "output_type": "display_data",
          "data": {
            "text/plain": [
              "<IPython.core.display.Javascript object>"
            ],
            "application/javascript": [
              "window[\"0f05ed60-d327-11ec-960b-0242ac1c0002\"] = google.colab.output.setActiveOutputArea(window[\"0ee9bcd0-d327-11ec-960b-0242ac1c0002\"]);\n",
              "//# sourceURL=js_275a2d1c35"
            ]
          },
          "metadata": {}
        },
        {
          "output_type": "display_data",
          "data": {
            "text/plain": [
              "<IPython.core.display.Javascript object>"
            ],
            "application/javascript": [
              "window[\"0fa0fea4-d327-11ec-960b-0242ac1c0002\"] = google.colab.output.getActiveOutputArea();\n",
              "//# sourceURL=js_2726f9ac1e"
            ]
          },
          "metadata": {}
        },
        {
          "output_type": "display_data",
          "data": {
            "text/plain": [
              "<IPython.core.display.Javascript object>"
            ],
            "application/javascript": [
              "window[\"0fa13810-d327-11ec-960b-0242ac1c0002\"] = document.querySelector(\"#id2-0-0\");\n",
              "//# sourceURL=js_61791e05cc"
            ]
          },
          "metadata": {}
        },
        {
          "output_type": "display_data",
          "data": {
            "text/plain": [
              "<IPython.core.display.Javascript object>"
            ],
            "application/javascript": [
              "window[\"0fa1adb8-d327-11ec-960b-0242ac1c0002\"] = google.colab.output.setActiveOutputArea(window[\"0fa13810-d327-11ec-960b-0242ac1c0002\"]);\n",
              "//# sourceURL=js_adf78e9e6e"
            ]
          },
          "metadata": {}
        },
        {
          "output_type": "display_data",
          "data": {
            "text/plain": [
              "<IPython.core.display.Javascript object>"
            ],
            "application/javascript": [
              "window[\"0fbc2c9c-d327-11ec-960b-0242ac1c0002\"] = google.colab.output.setActiveOutputArea(window[\"0fa0fea4-d327-11ec-960b-0242ac1c0002\"]);\n",
              "//# sourceURL=js_67b0f02f51"
            ]
          },
          "metadata": {}
        },
        {
          "output_type": "display_data",
          "data": {
            "text/plain": [
              "<IPython.core.display.Javascript object>"
            ],
            "application/javascript": [
              "window[\"10572288-d327-11ec-960b-0242ac1c0002\"] = google.colab.output.getActiveOutputArea();\n",
              "//# sourceURL=js_6948ced34f"
            ]
          },
          "metadata": {}
        },
        {
          "output_type": "display_data",
          "data": {
            "text/plain": [
              "<IPython.core.display.Javascript object>"
            ],
            "application/javascript": [
              "window[\"10576e00-d327-11ec-960b-0242ac1c0002\"] = document.querySelector(\"#id2-0-0\");\n",
              "//# sourceURL=js_eb85db56bc"
            ]
          },
          "metadata": {}
        },
        {
          "output_type": "display_data",
          "data": {
            "text/plain": [
              "<IPython.core.display.Javascript object>"
            ],
            "application/javascript": [
              "window[\"1057deda-d327-11ec-960b-0242ac1c0002\"] = google.colab.output.setActiveOutputArea(window[\"10576e00-d327-11ec-960b-0242ac1c0002\"]);\n",
              "//# sourceURL=js_4ce72956ec"
            ]
          },
          "metadata": {}
        },
        {
          "output_type": "display_data",
          "data": {
            "text/plain": [
              "<IPython.core.display.Javascript object>"
            ],
            "application/javascript": [
              "window[\"10730a7a-d327-11ec-960b-0242ac1c0002\"] = google.colab.output.setActiveOutputArea(window[\"10572288-d327-11ec-960b-0242ac1c0002\"]);\n",
              "//# sourceURL=js_d3c758955a"
            ]
          },
          "metadata": {}
        },
        {
          "output_type": "display_data",
          "data": {
            "text/plain": [
              "<IPython.core.display.Javascript object>"
            ],
            "application/javascript": [
              "window[\"110eca82-d327-11ec-960b-0242ac1c0002\"] = google.colab.output.getActiveOutputArea();\n",
              "//# sourceURL=js_502e14cbab"
            ]
          },
          "metadata": {}
        },
        {
          "output_type": "display_data",
          "data": {
            "text/plain": [
              "<IPython.core.display.Javascript object>"
            ],
            "application/javascript": [
              "window[\"110f0da8-d327-11ec-960b-0242ac1c0002\"] = document.querySelector(\"#id2-0-0\");\n",
              "//# sourceURL=js_edfb8cc1d8"
            ]
          },
          "metadata": {}
        },
        {
          "output_type": "display_data",
          "data": {
            "text/plain": [
              "<IPython.core.display.Javascript object>"
            ],
            "application/javascript": [
              "window[\"110fa36c-d327-11ec-960b-0242ac1c0002\"] = google.colab.output.setActiveOutputArea(window[\"110f0da8-d327-11ec-960b-0242ac1c0002\"]);\n",
              "//# sourceURL=js_865e636771"
            ]
          },
          "metadata": {}
        },
        {
          "output_type": "display_data",
          "data": {
            "text/plain": [
              "<IPython.core.display.Javascript object>"
            ],
            "application/javascript": [
              "window[\"11349df2-d327-11ec-960b-0242ac1c0002\"] = google.colab.output.setActiveOutputArea(window[\"110eca82-d327-11ec-960b-0242ac1c0002\"]);\n",
              "//# sourceURL=js_b91802e5f7"
            ]
          },
          "metadata": {}
        },
        {
          "output_type": "display_data",
          "data": {
            "text/plain": [
              "<IPython.core.display.Javascript object>"
            ],
            "application/javascript": [
              "window[\"11cfe3d4-d327-11ec-960b-0242ac1c0002\"] = google.colab.output.getActiveOutputArea();\n",
              "//# sourceURL=js_80495a4845"
            ]
          },
          "metadata": {}
        },
        {
          "output_type": "display_data",
          "data": {
            "text/plain": [
              "<IPython.core.display.Javascript object>"
            ],
            "application/javascript": [
              "window[\"11d07600-d327-11ec-960b-0242ac1c0002\"] = document.querySelector(\"#id2-0-0\");\n",
              "//# sourceURL=js_1bc3082a12"
            ]
          },
          "metadata": {}
        },
        {
          "output_type": "display_data",
          "data": {
            "text/plain": [
              "<IPython.core.display.Javascript object>"
            ],
            "application/javascript": [
              "window[\"11d0b7e6-d327-11ec-960b-0242ac1c0002\"] = google.colab.output.setActiveOutputArea(window[\"11d07600-d327-11ec-960b-0242ac1c0002\"]);\n",
              "//# sourceURL=js_94cf822ddb"
            ]
          },
          "metadata": {}
        },
        {
          "output_type": "stream",
          "name": "stdout",
          "text": [
            "Action = up   ,   Agent position = [5 5],   Reward = 1000\n"
          ]
        },
        {
          "output_type": "display_data",
          "data": {
            "text/plain": [
              "<Figure size 720x720 with 1 Axes>"
            ],
            "image/png": "[encoded data removed]"
          },
          "metadata": {
            "needs_background": "light"
          }
        },
        {
          "output_type": "display_data",
          "data": {
            "text/plain": [
              "<IPython.core.display.Javascript object>"
            ],
            "application/javascript": [
              "window[\"11ec73e6-d327-11ec-960b-0242ac1c0002\"] = google.colab.output.setActiveOutputArea(window[\"11cfe3d4-d327-11ec-960b-0242ac1c0002\"]);\n",
              "//# sourceURL=js_784d583910"
            ]
          },
          "metadata": {}
        },
        {
          "output_type": "stream",
          "name": "stdout",
          "text": [
            "Action = left ,   Agent position = [0 0],   Reward = -31\n",
            "Action = down ,   Agent position = [0 0],   Reward = -31\n",
            "Action = right,   Agent position = [1 0],   Reward = -1\n",
            "Action = right,   Agent position = [2 0],   Reward = -1\n",
            "Action = right,   Agent position = [3 0],   Reward = -1\n",
            "Action = right,   Agent position = [4 0],   Reward = -1\n",
            "Action = up   ,   Agent position = [4 1],   Reward = -1\n",
            "Action = up   ,   Agent position = [4 2],   Reward = -1\n",
            "Action = right,   Agent position = [5 2],   Reward = -1\n",
            "Action = up   ,   Agent position = [5 3],   Reward = -1\n",
            "Action = up   ,   Agent position = [5 4],   Reward = -1\n",
            "Action = down ,   Agent position = [5 3],   Reward = -1\n",
            "Action = right,   Agent position = [5 3],   Reward = -31\n",
            "Action = left ,   Agent position = [4 3],   Reward = 20\n",
            "Action = up   ,   Agent position = [4 4],   Reward = -1\n",
            "Action = up   ,   Agent position = [4 5],   Reward = -1\n",
            "Action = up   ,   Agent position = [4 5],   Reward = -31\n",
            "Action = down ,   Agent position = [4 4],   Reward = -1\n",
            "Action = left ,   Agent position = [3 4],   Reward = -1\n",
            "Action = up   ,   Agent position = [3 5],   Reward = -1\n",
            "Action = right,   Agent position = [4 5],   Reward = -1\n",
            "Action = down ,   Agent position = [4 4],   Reward = -1\n",
            "Action = down ,   Agent position = [4 3],   Reward = 20\n",
            "Action = up   ,   Agent position = [4 4],   Reward = -1\n",
            "Action = right,   Agent position = [5 4],   Reward = -1\n",
            "Action = down ,   Agent position = [5 3],   Reward = -1\n",
            "Action = up   ,   Agent position = [5 4],   Reward = -1\n",
            "Action = up   ,   Agent position = [5 5],   Reward = 1000\n"
          ]
        }
      ]
    },
    {
      "cell_type": "code",
      "source": [
        "\n",
        "\n",
        "def greedy_action(agent_pos, epsilon):\n",
        "  if np.random.random() > epsilon:\n",
        "    action = np.argmax(agent_pos)\n",
        "  else:\n",
        "    action = np.random.choice(env.action_space.n,1)[0]\n",
        "  return action\n",
        "\n",
        "def sarsa(episodes,alpha,gamma,decay,epsilon):\n",
        "  env = GridEnvironment()\n",
        "  q_table = np.zeros([6,6,env.action_space.n])\n",
        "  rewards = []\n",
        "  epsilons = []\n",
        "\n",
        "  for epsiode in range(episodes):\n",
        "    agent_pos = env.reset()\n",
        "    done = False\n",
        "    reward = 0\n",
        "    action = greedy_action(q_table[agent_pos[0], agent_pos[1]], epsilon)\n",
        "    while not done:\n",
        "      observation, rew, done, info = env.step(action)\n",
        "      next_action = greedy_action(q_table[observation[0], observation[1]], epsilon)\n",
        "      q_table[agent_pos[0], agent_pos[1], action] = q_table[agent_pos[0], agent_pos[1], action] + alpha * (rew + (gamma * q_table[observation[0], observation[1], next_action]) - q_table[agent_pos[0], agent_pos[1], action])\n",
        "      agent_pos = np.clip(observation,0,5)\n",
        "      action = next_action\n",
        "      reward = reward + rew\n",
        "\n",
        "    rewards.append(reward)\n",
        "    epsilons.append(epsilon)\n",
        "    epsilon = epsilon * (1 - decay)\n",
        "\n",
        "  optimal_policy = {}\n",
        "  for i in range(6):\n",
        "    for j in range(6):\n",
        "      optimal_policy[(i, j)] = np.argmax(q_table[i,j,:])\n",
        "  \n",
        "  return q_table, epsilons, rewards, optimal_policy\n",
        "\n",
        "def render(optimal_policy):\n",
        "    env = GridEnvironment()\n",
        "    observation = env.reset()\n",
        "    output_grid = widgets.Grid(1, 1)\n",
        "    with output_grid.output_to(0, 0):\n",
        "      env.render()\n",
        "    done = False\n",
        "    movess = []\n",
        "    while not done:\n",
        "      action = optimal_policy[observation[0], observation[1]]\n",
        "      observation, rew, done, info = env.step(action)\n",
        "      with output_grid.output_to(0, 0):\n",
        "        output_grid.clear_cell()\n",
        "        env.render()\n",
        "        action_taken = {0: 'right', 1: 'left ', 2: 'up   ', 3: 'down '}\n",
        "        print(f'Action = {action_taken[action]},   Agent position = {observation},   Reward = {rew}')\n",
        "        movess.append((f'Action = {action_taken[action]},   Agent position = {observation},   Reward = {rew}'))\n",
        "      time.sleep(1)\n",
        "    for move in movess:\n",
        "      print(move)\n",
        "\n",
        "alpha = 0.85\n",
        "gamma = 0.95\n",
        "iterations = 4000\n",
        "epsilon = 1\n",
        "decay = 0.00175\n",
        "q_table, epsilon, rewards, optimal_policy = sarsa(iterations,alpha,gamma,decay,epsilon)\n",
        "\n",
        "\n",
        "plt.plot(epsilon,label=\"Epsilon Graph\")\n",
        "plt.xlabel(\"No. of iterations\")\n",
        "plt.ylabel(\"Epsilon\")\n",
        "plt.show()\n",
        "\n",
        "plt.plot(rewards,label=\"Rewards Graph\")\n",
        "plt.xlabel(\"No. of iterations\")\n",
        "plt.ylabel(\"Rewards\")\n",
        "plt.show()\n",
        "\n",
        "render(optimal_policy)"
      ],
      "metadata": {
        "colab": {
          "base_uri": "https://localhost:8080/",
          "height": 1000
        },
        "id": "O-c9PnzIz7YF",
        "outputId": "379444fa-683e-4b3b-de29-6d6a8879bad9"
      },
      "execution_count": 14,
      "outputs": [
        {
          "output_type": "display_data",
          "data": {
            "text/plain": [
              "<Figure size 432x288 with 1 Axes>"
            ],
            "image/png": "[encoded data removed]"
          },
          "metadata": {
            "needs_background": "light"
          }
        },
        {
          "output_type": "display_data",
          "data": {
            "text/plain": [
              "<Figure size 432x288 with 1 Axes>"
            ],
            "image/png": "[encoded data removed]"
          },
          "metadata": {
            "needs_background": "light"
          }
        },
        {
          "output_type": "display_data",
          "data": {
            "text/plain": [
              "<IPython.core.display.HTML object>"
            ],
            "text/html": [
              "<style>\n",
              "       table#id14, #id14 > tbody > tr > th, #id14 > tbody > tr > td {\n",
              "         border: 1px solid lightgray;\n",
              "         border-collapse:collapse;\n",
              "         \n",
              "        }</style>"
            ]
          },
          "metadata": {}
        },
        {
          "output_type": "display_data",
          "data": {
            "text/plain": [
              "<IPython.core.display.HTML object>"
            ],
            "text/html": [
              "<table id=id14><tr><td id=id14-0-0></td></tr></table>"
            ]
          },
          "metadata": {}
        },
        {
          "output_type": "display_data",
          "data": {
            "text/plain": [
              "<IPython.core.display.Javascript object>"
            ],
            "application/javascript": [
              "window[\"f45ec966-d329-11ec-960b-0242ac1c0002\"] = google.colab.output.getActiveOutputArea();\n",
              "//# sourceURL=js_223ad617fd"
            ]
          },
          "metadata": {}
        },
        {
          "output_type": "display_data",
          "data": {
            "text/plain": [
              "<IPython.core.display.Javascript object>"
            ],
            "application/javascript": [
              "window[\"f45f302c-d329-11ec-960b-0242ac1c0002\"] = document.querySelector(\"#id14-0-0\");\n",
              "//# sourceURL=js_93d8ac0908"
            ]
          },
          "metadata": {}
        },
        {
          "output_type": "display_data",
          "data": {
            "text/plain": [
              "<IPython.core.display.Javascript object>"
            ],
            "application/javascript": [
              "window[\"f45f9594-d329-11ec-960b-0242ac1c0002\"] = google.colab.output.setActiveOutputArea(window[\"f45f302c-d329-11ec-960b-0242ac1c0002\"]);\n",
              "//# sourceURL=js_be3a0d9984"
            ]
          },
          "metadata": {}
        },
        {
          "output_type": "display_data",
          "data": {
            "text/plain": [
              "<IPython.core.display.Javascript object>"
            ],
            "application/javascript": [
              "window[\"f479759a-d329-11ec-960b-0242ac1c0002\"] = google.colab.output.setActiveOutputArea(window[\"f45ec966-d329-11ec-960b-0242ac1c0002\"]);\n",
              "//# sourceURL=js_5e0cdb751c"
            ]
          },
          "metadata": {}
        },
        {
          "output_type": "display_data",
          "data": {
            "text/plain": [
              "<IPython.core.display.Javascript object>"
            ],
            "application/javascript": [
              "window[\"f47be712-d329-11ec-960b-0242ac1c0002\"] = google.colab.output.getActiveOutputArea();\n",
              "//# sourceURL=js_990bd88292"
            ]
          },
          "metadata": {}
        },
        {
          "output_type": "display_data",
          "data": {
            "text/plain": [
              "<IPython.core.display.Javascript object>"
            ],
            "application/javascript": [
              "window[\"f47c22f4-d329-11ec-960b-0242ac1c0002\"] = document.querySelector(\"#id14-0-0\");\n",
              "//# sourceURL=js_db1fee0eff"
            ]
          },
          "metadata": {}
        },
        {
          "output_type": "display_data",
          "data": {
            "text/plain": [
              "<IPython.core.display.Javascript object>"
            ],
            "application/javascript": [
              "window[\"f47c7150-d329-11ec-960b-0242ac1c0002\"] = google.colab.output.setActiveOutputArea(window[\"f47c22f4-d329-11ec-960b-0242ac1c0002\"]);\n",
              "//# sourceURL=js_03dce158f5"
            ]
          },
          "metadata": {}
        },
        {
          "output_type": "display_data",
          "data": {
            "text/plain": [
              "<IPython.core.display.Javascript object>"
            ],
            "application/javascript": [
              "window[\"f49886ec-d329-11ec-960b-0242ac1c0002\"] = google.colab.output.setActiveOutputArea(window[\"f47be712-d329-11ec-960b-0242ac1c0002\"]);\n",
              "//# sourceURL=js_7e03023cf8"
            ]
          },
          "metadata": {}
        },
        {
          "output_type": "display_data",
          "data": {
            "text/plain": [
              "<IPython.core.display.Javascript object>"
            ],
            "application/javascript": [
              "window[\"f533d0b6-d329-11ec-960b-0242ac1c0002\"] = google.colab.output.getActiveOutputArea();\n",
              "//# sourceURL=js_fe47191bfb"
            ]
          },
          "metadata": {}
        },
        {
          "output_type": "display_data",
          "data": {
            "text/plain": [
              "<IPython.core.display.Javascript object>"
            ],
            "application/javascript": [
              "window[\"f5342386-d329-11ec-960b-0242ac1c0002\"] = document.querySelector(\"#id14-0-0\");\n",
              "//# sourceURL=js_562dc25197"
            ]
          },
          "metadata": {}
        },
        {
          "output_type": "display_data",
          "data": {
            "text/plain": [
              "<IPython.core.display.Javascript object>"
            ],
            "application/javascript": [
              "window[\"f5346a08-d329-11ec-960b-0242ac1c0002\"] = google.colab.output.setActiveOutputArea(window[\"f5342386-d329-11ec-960b-0242ac1c0002\"]);\n",
              "//# sourceURL=js_9f654a52c0"
            ]
          },
          "metadata": {}
        },
        {
          "output_type": "display_data",
          "data": {
            "text/plain": [
              "<IPython.core.display.Javascript object>"
            ],
            "application/javascript": [
              "window[\"f5514858-d329-11ec-960b-0242ac1c0002\"] = google.colab.output.setActiveOutputArea(window[\"f533d0b6-d329-11ec-960b-0242ac1c0002\"]);\n",
              "//# sourceURL=js_4756c4c648"
            ]
          },
          "metadata": {}
        },
        {
          "output_type": "display_data",
          "data": {
            "text/plain": [
              "<IPython.core.display.Javascript object>"
            ],
            "application/javascript": [
              "window[\"f5ec4330-d329-11ec-960b-0242ac1c0002\"] = google.colab.output.getActiveOutputArea();\n",
              "//# sourceURL=js_8ea5105930"
            ]
          },
          "metadata": {}
        },
        {
          "output_type": "display_data",
          "data": {
            "text/plain": [
              "<IPython.core.display.Javascript object>"
            ],
            "application/javascript": [
              "window[\"f5ec9678-d329-11ec-960b-0242ac1c0002\"] = document.querySelector(\"#id14-0-0\");\n",
              "//# sourceURL=js_c77d5101d9"
            ]
          },
          "metadata": {}
        },
        {
          "output_type": "display_data",
          "data": {
            "text/plain": [
              "<IPython.core.display.Javascript object>"
            ],
            "application/javascript": [
              "window[\"f5ecfe1a-d329-11ec-960b-0242ac1c0002\"] = google.colab.output.setActiveOutputArea(window[\"f5ec9678-d329-11ec-960b-0242ac1c0002\"]);\n",
              "//# sourceURL=js_5d12c45a18"
            ]
          },
          "metadata": {}
        },
        {
          "output_type": "display_data",
          "data": {
            "text/plain": [
              "<IPython.core.display.Javascript object>"
            ],
            "application/javascript": [
              "window[\"f608d4b4-d329-11ec-960b-0242ac1c0002\"] = google.colab.output.setActiveOutputArea(window[\"f5ec4330-d329-11ec-960b-0242ac1c0002\"]);\n",
              "//# sourceURL=js_5d73ca5e19"
            ]
          },
          "metadata": {}
        },
        {
          "output_type": "display_data",
          "data": {
            "text/plain": [
              "<IPython.core.display.Javascript object>"
            ],
            "application/javascript": [
              "window[\"f6a37294-d329-11ec-960b-0242ac1c0002\"] = google.colab.output.getActiveOutputArea();\n",
              "//# sourceURL=js_bbf3c20e0d"
            ]
          },
          "metadata": {}
        },
        {
          "output_type": "display_data",
          "data": {
            "text/plain": [
              "<IPython.core.display.Javascript object>"
            ],
            "application/javascript": [
              "window[\"f6a3ab74-d329-11ec-960b-0242ac1c0002\"] = document.querySelector(\"#id14-0-0\");\n",
              "//# sourceURL=js_99f6e7d9c1"
            ]
          },
          "metadata": {}
        },
        {
          "output_type": "display_data",
          "data": {
            "text/plain": [
              "<IPython.core.display.Javascript object>"
            ],
            "application/javascript": [
              "window[\"f6a3fd18-d329-11ec-960b-0242ac1c0002\"] = google.colab.output.setActiveOutputArea(window[\"f6a3ab74-d329-11ec-960b-0242ac1c0002\"]);\n",
              "//# sourceURL=js_ed2e8a6542"
            ]
          },
          "metadata": {}
        },
        {
          "output_type": "display_data",
          "data": {
            "text/plain": [
              "<IPython.core.display.Javascript object>"
            ],
            "application/javascript": [
              "window[\"f6bf3c0e-d329-11ec-960b-0242ac1c0002\"] = google.colab.output.setActiveOutputArea(window[\"f6a37294-d329-11ec-960b-0242ac1c0002\"]);\n",
              "//# sourceURL=js_6d534ab367"
            ]
          },
          "metadata": {}
        },
        {
          "output_type": "display_data",
          "data": {
            "text/plain": [
              "<IPython.core.display.Javascript object>"
            ],
            "application/javascript": [
              "window[\"f759e3d0-d329-11ec-960b-0242ac1c0002\"] = google.colab.output.getActiveOutputArea();\n",
              "//# sourceURL=js_def676612b"
            ]
          },
          "metadata": {}
        },
        {
          "output_type": "display_data",
          "data": {
            "text/plain": [
              "<IPython.core.display.Javascript object>"
            ],
            "application/javascript": [
              "window[\"f75a2e3a-d329-11ec-960b-0242ac1c0002\"] = document.querySelector(\"#id14-0-0\");\n",
              "//# sourceURL=js_e48a8f865f"
            ]
          },
          "metadata": {}
        },
        {
          "output_type": "display_data",
          "data": {
            "text/plain": [
              "<IPython.core.display.Javascript object>"
            ],
            "application/javascript": [
              "window[\"f75a6c38-d329-11ec-960b-0242ac1c0002\"] = google.colab.output.setActiveOutputArea(window[\"f75a2e3a-d329-11ec-960b-0242ac1c0002\"]);\n",
              "//# sourceURL=js_dca667ae54"
            ]
          },
          "metadata": {}
        },
        {
          "output_type": "display_data",
          "data": {
            "text/plain": [
              "<IPython.core.display.Javascript object>"
            ],
            "application/javascript": [
              "window[\"f780149c-d329-11ec-960b-0242ac1c0002\"] = google.colab.output.setActiveOutputArea(window[\"f759e3d0-d329-11ec-960b-0242ac1c0002\"]);\n",
              "//# sourceURL=js_84fcbc4804"
            ]
          },
          "metadata": {}
        },
        {
          "output_type": "display_data",
          "data": {
            "text/plain": [
              "<IPython.core.display.Javascript object>"
            ],
            "application/javascript": [
              "window[\"f81b0ff6-d329-11ec-960b-0242ac1c0002\"] = google.colab.output.getActiveOutputArea();\n",
              "//# sourceURL=js_cdf623e346"
            ]
          },
          "metadata": {}
        },
        {
          "output_type": "display_data",
          "data": {
            "text/plain": [
              "<IPython.core.display.Javascript object>"
            ],
            "application/javascript": [
              "window[\"f81b63ac-d329-11ec-960b-0242ac1c0002\"] = document.querySelector(\"#id14-0-0\");\n",
              "//# sourceURL=js_04c1916a55"
            ]
          },
          "metadata": {}
        },
        {
          "output_type": "display_data",
          "data": {
            "text/plain": [
              "<IPython.core.display.Javascript object>"
            ],
            "application/javascript": [
              "window[\"f81bb0b4-d329-11ec-960b-0242ac1c0002\"] = google.colab.output.setActiveOutputArea(window[\"f81b63ac-d329-11ec-960b-0242ac1c0002\"]);\n",
              "//# sourceURL=js_45558f90b6"
            ]
          },
          "metadata": {}
        },
        {
          "output_type": "display_data",
          "data": {
            "text/plain": [
              "<IPython.core.display.Javascript object>"
            ],
            "application/javascript": [
              "window[\"f83759d6-d329-11ec-960b-0242ac1c0002\"] = google.colab.output.setActiveOutputArea(window[\"f81b0ff6-d329-11ec-960b-0242ac1c0002\"]);\n",
              "//# sourceURL=js_d95067a315"
            ]
          },
          "metadata": {}
        },
        {
          "output_type": "display_data",
          "data": {
            "text/plain": [
              "<IPython.core.display.Javascript object>"
            ],
            "application/javascript": [
              "window[\"f8d27dee-d329-11ec-960b-0242ac1c0002\"] = google.colab.output.getActiveOutputArea();\n",
              "//# sourceURL=js_313a2b7f55"
            ]
          },
          "metadata": {}
        },
        {
          "output_type": "display_data",
          "data": {
            "text/plain": [
              "<IPython.core.display.Javascript object>"
            ],
            "application/javascript": [
              "window[\"f8d2d460-d329-11ec-960b-0242ac1c0002\"] = document.querySelector(\"#id14-0-0\");\n",
              "//# sourceURL=js_0a44f1b4e7"
            ]
          },
          "metadata": {}
        },
        {
          "output_type": "display_data",
          "data": {
            "text/plain": [
              "<IPython.core.display.Javascript object>"
            ],
            "application/javascript": [
              "window[\"f8d33c98-d329-11ec-960b-0242ac1c0002\"] = google.colab.output.setActiveOutputArea(window[\"f8d2d460-d329-11ec-960b-0242ac1c0002\"]);\n",
              "//# sourceURL=js_74771425d6"
            ]
          },
          "metadata": {}
        },
        {
          "output_type": "display_data",
          "data": {
            "text/plain": [
              "<IPython.core.display.Javascript object>"
            ],
            "application/javascript": [
              "window[\"f8ee3f02-d329-11ec-960b-0242ac1c0002\"] = google.colab.output.setActiveOutputArea(window[\"f8d27dee-d329-11ec-960b-0242ac1c0002\"]);\n",
              "//# sourceURL=js_aaeeaf46f6"
            ]
          },
          "metadata": {}
        },
        {
          "output_type": "display_data",
          "data": {
            "text/plain": [
              "<IPython.core.display.Javascript object>"
            ],
            "application/javascript": [
              "window[\"f9899d62-d329-11ec-960b-0242ac1c0002\"] = google.colab.output.getActiveOutputArea();\n",
              "//# sourceURL=js_58dbda7167"
            ]
          },
          "metadata": {}
        },
        {
          "output_type": "display_data",
          "data": {
            "text/plain": [
              "<IPython.core.display.Javascript object>"
            ],
            "application/javascript": [
              "window[\"f989d494-d329-11ec-960b-0242ac1c0002\"] = document.querySelector(\"#id14-0-0\");\n",
              "//# sourceURL=js_3781e3c88c"
            ]
          },
          "metadata": {}
        },
        {
          "output_type": "display_data",
          "data": {
            "text/plain": [
              "<IPython.core.display.Javascript object>"
            ],
            "application/javascript": [
              "window[\"f98a4d48-d329-11ec-960b-0242ac1c0002\"] = google.colab.output.setActiveOutputArea(window[\"f989d494-d329-11ec-960b-0242ac1c0002\"]);\n",
              "//# sourceURL=js_77eb033b9c"
            ]
          },
          "metadata": {}
        },
        {
          "output_type": "display_data",
          "data": {
            "text/plain": [
              "<IPython.core.display.Javascript object>"
            ],
            "application/javascript": [
              "window[\"f9a5e738-d329-11ec-960b-0242ac1c0002\"] = google.colab.output.setActiveOutputArea(window[\"f9899d62-d329-11ec-960b-0242ac1c0002\"]);\n",
              "//# sourceURL=js_ef499a3b0a"
            ]
          },
          "metadata": {}
        },
        {
          "output_type": "display_data",
          "data": {
            "text/plain": [
              "<IPython.core.display.Javascript object>"
            ],
            "application/javascript": [
              "window[\"fa415704-d329-11ec-960b-0242ac1c0002\"] = google.colab.output.getActiveOutputArea();\n",
              "//# sourceURL=js_f607a06bfe"
            ]
          },
          "metadata": {}
        },
        {
          "output_type": "display_data",
          "data": {
            "text/plain": [
              "<IPython.core.display.Javascript object>"
            ],
            "application/javascript": [
              "window[\"fa418f12-d329-11ec-960b-0242ac1c0002\"] = document.querySelector(\"#id14-0-0\");\n",
              "//# sourceURL=js_c868fb9546"
            ]
          },
          "metadata": {}
        },
        {
          "output_type": "display_data",
          "data": {
            "text/plain": [
              "<IPython.core.display.Javascript object>"
            ],
            "application/javascript": [
              "window[\"fa42230a-d329-11ec-960b-0242ac1c0002\"] = google.colab.output.setActiveOutputArea(window[\"fa418f12-d329-11ec-960b-0242ac1c0002\"]);\n",
              "//# sourceURL=js_d313660587"
            ]
          },
          "metadata": {}
        },
        {
          "output_type": "display_data",
          "data": {
            "text/plain": [
              "<IPython.core.display.Javascript object>"
            ],
            "application/javascript": [
              "window[\"fa5d5850-d329-11ec-960b-0242ac1c0002\"] = google.colab.output.setActiveOutputArea(window[\"fa415704-d329-11ec-960b-0242ac1c0002\"]);\n",
              "//# sourceURL=js_9c80fd8397"
            ]
          },
          "metadata": {}
        },
        {
          "output_type": "display_data",
          "data": {
            "text/plain": [
              "<IPython.core.display.Javascript object>"
            ],
            "application/javascript": [
              "window[\"faf831c2-d329-11ec-960b-0242ac1c0002\"] = google.colab.output.getActiveOutputArea();\n",
              "//# sourceURL=js_ac1625e399"
            ]
          },
          "metadata": {}
        },
        {
          "output_type": "display_data",
          "data": {
            "text/plain": [
              "<IPython.core.display.Javascript object>"
            ],
            "application/javascript": [
              "window[\"faf87358-d329-11ec-960b-0242ac1c0002\"] = document.querySelector(\"#id14-0-0\");\n",
              "//# sourceURL=js_a661b1573b"
            ]
          },
          "metadata": {}
        },
        {
          "output_type": "display_data",
          "data": {
            "text/plain": [
              "<IPython.core.display.Javascript object>"
            ],
            "application/javascript": [
              "window[\"faf8be26-d329-11ec-960b-0242ac1c0002\"] = google.colab.output.setActiveOutputArea(window[\"faf87358-d329-11ec-960b-0242ac1c0002\"]);\n",
              "//# sourceURL=js_ab0701d116"
            ]
          },
          "metadata": {}
        },
        {
          "output_type": "stream",
          "name": "stdout",
          "text": [
            "Action = up   ,   Agent position = [5 5],   Reward = 1000\n"
          ]
        },
        {
          "output_type": "display_data",
          "data": {
            "text/plain": [
              "<Figure size 720x720 with 1 Axes>"
            ],
            "image/png": "[encoded data removed]"
          },
          "metadata": {
            "needs_background": "light"
          }
        },
        {
          "output_type": "display_data",
          "data": {
            "text/plain": [
              "<IPython.core.display.Javascript object>"
            ],
            "application/javascript": [
              "window[\"fb144c40-d329-11ec-960b-0242ac1c0002\"] = google.colab.output.setActiveOutputArea(window[\"faf831c2-d329-11ec-960b-0242ac1c0002\"]);\n",
              "//# sourceURL=js_f296b5896e"
            ]
          },
          "metadata": {}
        },
        {
          "output_type": "stream",
          "name": "stdout",
          "text": [
            "Action = up   ,   Agent position = [0 1],   Reward = -1\n",
            "Action = right,   Agent position = [1 1],   Reward = 15\n",
            "Action = up   ,   Agent position = [1 2],   Reward = -1\n",
            "Action = up   ,   Agent position = [1 3],   Reward = -1\n",
            "Action = right,   Agent position = [2 3],   Reward = -1\n",
            "Action = right,   Agent position = [3 3],   Reward = -1\n",
            "Action = right,   Agent position = [4 3],   Reward = 20\n",
            "Action = right,   Agent position = [5 3],   Reward = -1\n",
            "Action = up   ,   Agent position = [5 4],   Reward = -1\n",
            "Action = up   ,   Agent position = [5 5],   Reward = 1000\n"
          ]
        }
      ]
    },
    {
      "cell_type": "markdown",
      "source": [
        "# Reference\n",
        "\n",
        "Class demo on environment, \n",
        "class demo on random agent,\n",
        "piazza post video link to video guide by Nitin for rendering,\n",
        "images were created by me using paint"
      ],
      "metadata": {
        "id": "sDEIHRAzqr1A"
      }
    }
  ]
}